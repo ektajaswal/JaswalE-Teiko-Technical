{
 "cells": [
  {
   "cell_type": "markdown",
   "id": "d7ef4ae9-cce3-47df-8fce-18326f44b6e7",
   "metadata": {},
   "source": [
    "# Immune Cell Population Analysis\n",
    "### This notebook analyzes immune cell population data from blood samples, comparing responders and non-responders to treatment."
   ]
  },
  {
   "cell_type": "markdown",
   "id": "872ab6e8-c8f5-4f00-bb9e-b4f870d5396a",
   "metadata": {},
   "source": [
    "## 1. Data Loading and Preparation"
   ]
  },
  {
   "cell_type": "code",
   "execution_count": 2,
   "id": "e7c7c72a-7b55-4daf-a9ac-3e634e0091b0",
   "metadata": {},
   "outputs": [
    {
     "name": "stdout",
     "output_type": "stream",
     "text": [
      "Original data shape: (17, 15)\n"
     ]
    },
    {
     "data": {
      "text/html": [
       "<div>\n",
       "<style scoped>\n",
       "    .dataframe tbody tr th:only-of-type {\n",
       "        vertical-align: middle;\n",
       "    }\n",
       "\n",
       "    .dataframe tbody tr th {\n",
       "        vertical-align: top;\n",
       "    }\n",
       "\n",
       "    .dataframe thead th {\n",
       "        text-align: right;\n",
       "    }\n",
       "</style>\n",
       "<table border=\"1\" class=\"dataframe\">\n",
       "  <thead>\n",
       "    <tr style=\"text-align: right;\">\n",
       "      <th></th>\n",
       "      <th>project</th>\n",
       "      <th>subject</th>\n",
       "      <th>condition</th>\n",
       "      <th>age</th>\n",
       "      <th>sex</th>\n",
       "      <th>treatment</th>\n",
       "      <th>response</th>\n",
       "      <th>sample</th>\n",
       "      <th>sample_type</th>\n",
       "      <th>time_from_treatment_start</th>\n",
       "      <th>b_cell</th>\n",
       "      <th>cd8_t_cell</th>\n",
       "      <th>cd4_t_cell</th>\n",
       "      <th>nk_cell</th>\n",
       "      <th>monocyte</th>\n",
       "    </tr>\n",
       "  </thead>\n",
       "  <tbody>\n",
       "    <tr>\n",
       "      <th>0</th>\n",
       "      <td>prj1</td>\n",
       "      <td>sbj1</td>\n",
       "      <td>melanoma</td>\n",
       "      <td>70</td>\n",
       "      <td>F</td>\n",
       "      <td>tr1</td>\n",
       "      <td>y</td>\n",
       "      <td>s1</td>\n",
       "      <td>PBMC</td>\n",
       "      <td>0.0</td>\n",
       "      <td>36000</td>\n",
       "      <td>24000</td>\n",
       "      <td>42000</td>\n",
       "      <td>6000</td>\n",
       "      <td>12000</td>\n",
       "    </tr>\n",
       "    <tr>\n",
       "      <th>1</th>\n",
       "      <td>prj1</td>\n",
       "      <td>sbj1</td>\n",
       "      <td>melanoma</td>\n",
       "      <td>70</td>\n",
       "      <td>F</td>\n",
       "      <td>tr1</td>\n",
       "      <td>y</td>\n",
       "      <td>s2</td>\n",
       "      <td>PBMC</td>\n",
       "      <td>7.0</td>\n",
       "      <td>30000</td>\n",
       "      <td>22000</td>\n",
       "      <td>40000</td>\n",
       "      <td>2000</td>\n",
       "      <td>6000</td>\n",
       "    </tr>\n",
       "    <tr>\n",
       "      <th>2</th>\n",
       "      <td>prj1</td>\n",
       "      <td>sbj1</td>\n",
       "      <td>melanoma</td>\n",
       "      <td>70</td>\n",
       "      <td>F</td>\n",
       "      <td>tr1</td>\n",
       "      <td>y</td>\n",
       "      <td>s3</td>\n",
       "      <td>PBMC</td>\n",
       "      <td>14.0</td>\n",
       "      <td>35000</td>\n",
       "      <td>26250</td>\n",
       "      <td>37500</td>\n",
       "      <td>10000</td>\n",
       "      <td>16250</td>\n",
       "    </tr>\n",
       "    <tr>\n",
       "      <th>3</th>\n",
       "      <td>prj1</td>\n",
       "      <td>sbj2</td>\n",
       "      <td>healthy</td>\n",
       "      <td>65</td>\n",
       "      <td>F</td>\n",
       "      <td>none</td>\n",
       "      <td>NaN</td>\n",
       "      <td>s4</td>\n",
       "      <td>PBMC</td>\n",
       "      <td>NaN</td>\n",
       "      <td>27900</td>\n",
       "      <td>17100</td>\n",
       "      <td>18000</td>\n",
       "      <td>4500</td>\n",
       "      <td>22500</td>\n",
       "    </tr>\n",
       "    <tr>\n",
       "      <th>4</th>\n",
       "      <td>prj1</td>\n",
       "      <td>sbj3</td>\n",
       "      <td>melanoma</td>\n",
       "      <td>75</td>\n",
       "      <td>M</td>\n",
       "      <td>tr1</td>\n",
       "      <td>n</td>\n",
       "      <td>s5</td>\n",
       "      <td>PBMC</td>\n",
       "      <td>0.0</td>\n",
       "      <td>60000</td>\n",
       "      <td>30000</td>\n",
       "      <td>37500</td>\n",
       "      <td>4500</td>\n",
       "      <td>18000</td>\n",
       "    </tr>\n",
       "  </tbody>\n",
       "</table>\n",
       "</div>"
      ],
      "text/plain": [
       "  project subject condition  age sex treatment response sample sample_type  \\\n",
       "0    prj1    sbj1  melanoma   70   F       tr1        y     s1        PBMC   \n",
       "1    prj1    sbj1  melanoma   70   F       tr1        y     s2        PBMC   \n",
       "2    prj1    sbj1  melanoma   70   F       tr1        y     s3        PBMC   \n",
       "3    prj1    sbj2   healthy   65   F      none      NaN     s4        PBMC   \n",
       "4    prj1    sbj3  melanoma   75   M       tr1        n     s5        PBMC   \n",
       "\n",
       "   time_from_treatment_start  b_cell  cd8_t_cell  cd4_t_cell  nk_cell  \\\n",
       "0                        0.0   36000       24000       42000     6000   \n",
       "1                        7.0   30000       22000       40000     2000   \n",
       "2                       14.0   35000       26250       37500    10000   \n",
       "3                        NaN   27900       17100       18000     4500   \n",
       "4                        0.0   60000       30000       37500     4500   \n",
       "\n",
       "   monocyte  \n",
       "0     12000  \n",
       "1      6000  \n",
       "2     16250  \n",
       "3     22500  \n",
       "4     18000  "
      ]
     },
     "metadata": {},
     "output_type": "display_data"
    }
   ],
   "source": [
    "import pandas as pd\n",
    "import numpy as np\n",
    "import matplotlib.pyplot as plt\n",
    "import seaborn as sns\n",
    "from scipy.stats import mannwhitneyu\n",
    "from IPython.display import display\n",
    "\n",
    "sns.set_style('whitegrid')\n",
    "plt.rcParams['figure.figsize'] = [10, 6]\n",
    "\n",
    "df = pd.read_csv('cell-count.csv')\n",
    "print(\"Original data shape:\", df.shape)\n",
    "display(df.head())"
   ]
  },
  {
   "cell_type": "markdown",
   "id": "406408af-05e6-4a71-b1c8-4e2e66ed4cea",
   "metadata": {},
   "source": [
    "## 2. Convert Cell Counts to Relative Frequencies"
   ]
  },
  {
   "cell_type": "code",
   "execution_count": 3,
   "id": "ba126eaf-d3d6-4056-8107-711e5c1090c8",
   "metadata": {},
   "outputs": [
    {
     "name": "stdout",
     "output_type": "stream",
     "text": [
      "Relative frequencies calculated and saved to cell_count_percentages.csv\n"
     ]
    },
    {
     "data": {
      "text/html": [
       "<div>\n",
       "<style scoped>\n",
       "    .dataframe tbody tr th:only-of-type {\n",
       "        vertical-align: middle;\n",
       "    }\n",
       "\n",
       "    .dataframe tbody tr th {\n",
       "        vertical-align: top;\n",
       "    }\n",
       "\n",
       "    .dataframe thead th {\n",
       "        text-align: right;\n",
       "    }\n",
       "</style>\n",
       "<table border=\"1\" class=\"dataframe\">\n",
       "  <thead>\n",
       "    <tr style=\"text-align: right;\">\n",
       "      <th></th>\n",
       "      <th>sample</th>\n",
       "      <th>total_count</th>\n",
       "      <th>population</th>\n",
       "      <th>count</th>\n",
       "      <th>percentage</th>\n",
       "    </tr>\n",
       "  </thead>\n",
       "  <tbody>\n",
       "    <tr>\n",
       "      <th>0</th>\n",
       "      <td>s1</td>\n",
       "      <td>120000</td>\n",
       "      <td>b_cell</td>\n",
       "      <td>36000</td>\n",
       "      <td>30.0</td>\n",
       "    </tr>\n",
       "    <tr>\n",
       "      <th>1</th>\n",
       "      <td>s2</td>\n",
       "      <td>100000</td>\n",
       "      <td>b_cell</td>\n",
       "      <td>30000</td>\n",
       "      <td>30.0</td>\n",
       "    </tr>\n",
       "    <tr>\n",
       "      <th>2</th>\n",
       "      <td>s3</td>\n",
       "      <td>125000</td>\n",
       "      <td>b_cell</td>\n",
       "      <td>35000</td>\n",
       "      <td>28.0</td>\n",
       "    </tr>\n",
       "    <tr>\n",
       "      <th>3</th>\n",
       "      <td>s4</td>\n",
       "      <td>90000</td>\n",
       "      <td>b_cell</td>\n",
       "      <td>27900</td>\n",
       "      <td>31.0</td>\n",
       "    </tr>\n",
       "    <tr>\n",
       "      <th>4</th>\n",
       "      <td>s5</td>\n",
       "      <td>150000</td>\n",
       "      <td>b_cell</td>\n",
       "      <td>60000</td>\n",
       "      <td>40.0</td>\n",
       "    </tr>\n",
       "  </tbody>\n",
       "</table>\n",
       "</div>"
      ],
      "text/plain": [
       "  sample  total_count population  count  percentage\n",
       "0     s1       120000     b_cell  36000        30.0\n",
       "1     s2       100000     b_cell  30000        30.0\n",
       "2     s3       125000     b_cell  35000        28.0\n",
       "3     s4        90000     b_cell  27900        31.0\n",
       "4     s5       150000     b_cell  60000        40.0"
      ]
     },
     "metadata": {},
     "output_type": "display_data"
    }
   ],
   "source": [
    "populations = ['b_cell', 'cd8_t_cell', 'cd4_t_cell', 'nk_cell', 'monocyte']\n",
    "\n",
    "df['total_count'] = df[populations].sum(axis=1)\n",
    "\n",
    "melted = df.melt(id_vars=['sample', 'total_count'], \n",
    "                 value_vars=populations,\n",
    "                 var_name='population',\n",
    "                 value_name='count')\n",
    "melted['percentage'] = (melted['count'] / melted['total_count']) * 100\n",
    "\n",
    "result = melted[['sample', 'total_count', 'population', 'count', 'percentage']]\n",
    "\n",
    "result.to_csv('cell_count_percentages.csv', index=False)\n",
    "print(\"Relative frequencies calculated and saved to cell_count_percentages.csv\")\n",
    "\n",
    "display(result.head())\n"
   ]
  },
  {
   "cell_type": "markdown",
   "id": "7bf5d630-f847-4e6a-9aae-4cba00212747",
   "metadata": {},
   "source": [
    "## 3. Analysis of Responders vs Non-Responders"
   ]
  },
  {
   "cell_type": "markdown",
   "id": "7cd27654-5c82-4cc6-9eac-dd68259d8b28",
   "metadata": {},
   "source": [
    "### 3.1 Filter Data for TR1 Treatment and PBMC Samples"
   ]
  },
  {
   "cell_type": "code",
   "execution_count": 5,
   "id": "51635cb1-ad54-4d50-bac7-9b44ce256049",
   "metadata": {},
   "outputs": [
    {
     "name": "stdout",
     "output_type": "stream",
     "text": [
      "Found 9 melanoma samples from 3 projects\n"
     ]
    },
    {
     "data": {
      "text/html": [
       "<div>\n",
       "<style scoped>\n",
       "    .dataframe tbody tr th:only-of-type {\n",
       "        vertical-align: middle;\n",
       "    }\n",
       "\n",
       "    .dataframe tbody tr th {\n",
       "        vertical-align: top;\n",
       "    }\n",
       "\n",
       "    .dataframe thead th {\n",
       "        text-align: right;\n",
       "    }\n",
       "</style>\n",
       "<table border=\"1\" class=\"dataframe\">\n",
       "  <thead>\n",
       "    <tr style=\"text-align: right;\">\n",
       "      <th></th>\n",
       "      <th>sample</th>\n",
       "      <th>project</th>\n",
       "      <th>condition</th>\n",
       "      <th>response</th>\n",
       "      <th>sex</th>\n",
       "      <th>total_count</th>\n",
       "      <th>population</th>\n",
       "      <th>count</th>\n",
       "      <th>percentage</th>\n",
       "    </tr>\n",
       "  </thead>\n",
       "  <tbody>\n",
       "    <tr>\n",
       "      <th>0</th>\n",
       "      <td>s1</td>\n",
       "      <td>prj1</td>\n",
       "      <td>melanoma</td>\n",
       "      <td>y</td>\n",
       "      <td>F</td>\n",
       "      <td>120000</td>\n",
       "      <td>b_cell</td>\n",
       "      <td>36000</td>\n",
       "      <td>30.0</td>\n",
       "    </tr>\n",
       "    <tr>\n",
       "      <th>1</th>\n",
       "      <td>s1</td>\n",
       "      <td>prj1</td>\n",
       "      <td>melanoma</td>\n",
       "      <td>y</td>\n",
       "      <td>F</td>\n",
       "      <td>120000</td>\n",
       "      <td>cd8_t_cell</td>\n",
       "      <td>24000</td>\n",
       "      <td>20.0</td>\n",
       "    </tr>\n",
       "    <tr>\n",
       "      <th>2</th>\n",
       "      <td>s1</td>\n",
       "      <td>prj1</td>\n",
       "      <td>melanoma</td>\n",
       "      <td>y</td>\n",
       "      <td>F</td>\n",
       "      <td>120000</td>\n",
       "      <td>cd4_t_cell</td>\n",
       "      <td>42000</td>\n",
       "      <td>35.0</td>\n",
       "    </tr>\n",
       "    <tr>\n",
       "      <th>3</th>\n",
       "      <td>s1</td>\n",
       "      <td>prj1</td>\n",
       "      <td>melanoma</td>\n",
       "      <td>y</td>\n",
       "      <td>F</td>\n",
       "      <td>120000</td>\n",
       "      <td>nk_cell</td>\n",
       "      <td>6000</td>\n",
       "      <td>5.0</td>\n",
       "    </tr>\n",
       "    <tr>\n",
       "      <th>4</th>\n",
       "      <td>s1</td>\n",
       "      <td>prj1</td>\n",
       "      <td>melanoma</td>\n",
       "      <td>y</td>\n",
       "      <td>F</td>\n",
       "      <td>120000</td>\n",
       "      <td>monocyte</td>\n",
       "      <td>12000</td>\n",
       "      <td>10.0</td>\n",
       "    </tr>\n",
       "  </tbody>\n",
       "</table>\n",
       "</div>"
      ],
      "text/plain": [
       "  sample project condition response sex  total_count  population  count  \\\n",
       "0     s1    prj1  melanoma        y   F       120000      b_cell  36000   \n",
       "1     s1    prj1  melanoma        y   F       120000  cd8_t_cell  24000   \n",
       "2     s1    prj1  melanoma        y   F       120000  cd4_t_cell  42000   \n",
       "3     s1    prj1  melanoma        y   F       120000     nk_cell   6000   \n",
       "4     s1    prj1  melanoma        y   F       120000    monocyte  12000   \n",
       "\n",
       "   percentage  \n",
       "0        30.0  \n",
       "1        20.0  \n",
       "2        35.0  \n",
       "3         5.0  \n",
       "4        10.0  "
      ]
     },
     "metadata": {},
     "output_type": "display_data"
    }
   ],
   "source": [
    "tr1_pbmc = df[(df['treatment'] == 'tr1') & (df['sample_type'] == 'PBMC')]\n",
    "\n",
    "analysis_df = pd.merge(tr1_pbmc[['sample', 'project', 'condition', 'response', 'sex']], \n",
    "                      result, on='sample')\n",
    "\n",
    "melanoma_df = analysis_df[analysis_df['condition'] == 'melanoma']\n",
    "\n",
    "print(f\"Found {melanoma_df['sample'].nunique()} melanoma samples from {melanoma_df['project'].nunique()} projects\")\n",
    "display(melanoma_df.head())"
   ]
  },
  {
   "cell_type": "markdown",
   "id": "b52574b5-faa4-4611-b92a-cf0c508aa0da",
   "metadata": {},
   "source": [
    "### 3.2 Boxplot Comparison of Cell Populations"
   ]
  },
  {
   "cell_type": "code",
   "execution_count": 6,
   "id": "fed869e7-efbb-46f8-9504-79558a74225d",
   "metadata": {},
   "outputs": [
    {
     "data": {
      "image/png": "[encoded data removed]",
      "text/plain": [
       "<Figure size 1000x600 with 1 Axes>"
      ]
     },
     "metadata": {},
     "output_type": "display_data"
    },
    {
     "data": {
      "image/png": "[encoded data removed]",
      "text/plain": [
       "<Figure size 1000x600 with 1 Axes>"
      ]
     },
     "metadata": {},
     "output_type": "display_data"
    },
    {
     "data": {
      "image/png": "[encoded data removed]",
      "text/plain": [
       "<Figure size 1000x600 with 1 Axes>"
      ]
     },
     "metadata": {},
     "output_type": "display_data"
    },
    {
     "data": {
      "image/png": "[encoded data removed]",
      "text/plain": [
       "<Figure size 1000x600 with 1 Axes>"
      ]
     },
     "metadata": {},
     "output_type": "display_data"
    },
    {
     "data": {
      "image/png": "[encoded data removed]",
      "text/plain": [
       "<Figure size 1000x600 with 1 Axes>"
      ]
     },
     "metadata": {},
     "output_type": "display_data"
    }
   ],
   "source": [
    "for pop in populations:\n",
    "    plt.figure()\n",
    "    sns.boxplot(data=melanoma_df[melanoma_df['population'] == pop], \n",
    "                x='response', y='percentage')\n",
    "    plt.title(f'{pop} percentage by response\\nMelanoma patients on TR1 treatment')\n",
    "    plt.ylabel('Percentage (%)')\n",
    "    plt.xlabel('Response (y=responder, n=non-responder)')\n",
    "    plt.savefig(f'{pop}_response_comparison.png', bbox_inches='tight', dpi=300)\n",
    "    plt.show()"
   ]
  },
  {
   "cell_type": "markdown",
   "id": "7aae9334-b0cb-454e-8288-32ccf5682f39",
   "metadata": {},
   "source": [
    "### 3.3 Statistical Comparison"
   ]
  },
  {
   "cell_type": "code",
   "execution_count": 8,
   "id": "4c9b4630-54b9-4224-9b6b-c4ab0290b038",
   "metadata": {},
   "outputs": [
    {
     "data": {
      "text/html": [
       "<div>\n",
       "<style scoped>\n",
       "    .dataframe tbody tr th:only-of-type {\n",
       "        vertical-align: middle;\n",
       "    }\n",
       "\n",
       "    .dataframe tbody tr th {\n",
       "        vertical-align: top;\n",
       "    }\n",
       "\n",
       "    .dataframe thead th {\n",
       "        text-align: right;\n",
       "    }\n",
       "</style>\n",
       "<table border=\"1\" class=\"dataframe\">\n",
       "  <thead>\n",
       "    <tr style=\"text-align: right;\">\n",
       "      <th></th>\n",
       "      <th>population</th>\n",
       "      <th>responder_median</th>\n",
       "      <th>non_responder_median</th>\n",
       "      <th>median_diff</th>\n",
       "      <th>p_value</th>\n",
       "    </tr>\n",
       "  </thead>\n",
       "  <tbody>\n",
       "    <tr>\n",
       "      <th>2</th>\n",
       "      <td>cd4_t_cell</td>\n",
       "      <td>36.5</td>\n",
       "      <td>25.0</td>\n",
       "      <td>11.5</td>\n",
       "      <td>0.038056</td>\n",
       "    </tr>\n",
       "    <tr>\n",
       "      <th>4</th>\n",
       "      <td>monocyte</td>\n",
       "      <td>8.0</td>\n",
       "      <td>18.0</td>\n",
       "      <td>-10.0</td>\n",
       "      <td>0.051822</td>\n",
       "    </tr>\n",
       "    <tr>\n",
       "      <th>3</th>\n",
       "      <td>nk_cell</td>\n",
       "      <td>6.0</td>\n",
       "      <td>4.0</td>\n",
       "      <td>2.0</td>\n",
       "      <td>0.237302</td>\n",
       "    </tr>\n",
       "    <tr>\n",
       "      <th>0</th>\n",
       "      <td>b_cell</td>\n",
       "      <td>29.0</td>\n",
       "      <td>25.0</td>\n",
       "      <td>4.0</td>\n",
       "      <td>0.515082</td>\n",
       "    </tr>\n",
       "    <tr>\n",
       "      <th>1</th>\n",
       "      <td>cd8_t_cell</td>\n",
       "      <td>20.5</td>\n",
       "      <td>20.0</td>\n",
       "      <td>0.5</td>\n",
       "      <td>1.000000</td>\n",
       "    </tr>\n",
       "  </tbody>\n",
       "</table>\n",
       "</div>"
      ],
      "text/plain": [
       "   population  responder_median  non_responder_median  median_diff   p_value\n",
       "2  cd4_t_cell              36.5                  25.0         11.5  0.038056\n",
       "4    monocyte               8.0                  18.0        -10.0  0.051822\n",
       "3     nk_cell               6.0                   4.0          2.0  0.237302\n",
       "0      b_cell              29.0                  25.0          4.0  0.515082\n",
       "1  cd8_t_cell              20.5                  20.0          0.5  1.000000"
      ]
     },
     "metadata": {},
     "output_type": "display_data"
    }
   ],
   "source": [
    "# Mann-Whitney U test for each population\n",
    "results = []\n",
    "for pop in populations:\n",
    "    responders = melanoma_df[(melanoma_df['population'] == pop) & \n",
    "                            (melanoma_df['response'] == 'y')]['percentage']\n",
    "    non_responders = melanoma_df[(melanoma_df['population'] == pop) & \n",
    "                               (melanoma_df['response'] == 'n')]['percentage']\n",
    "    \n",
    "    stat, p = mannwhitneyu(responders, non_responders)\n",
    "    results.append({\n",
    "        'population': pop,\n",
    "        'responder_median': responders.median(),\n",
    "        'non_responder_median': non_responders.median(),\n",
    "        'median_diff': responders.median() - non_responders.median(),\n",
    "        'statistic': stat,\n",
    "        'p_value': p\n",
    "    })\n",
    "\n",
    "results_df = pd.DataFrame(results)\n",
    "display(results_df[['population', 'responder_median', 'non_responder_median', \n",
    "                   'median_diff', 'p_value']].sort_values('p_value'))\n"
   ]
  },
  {
   "cell_type": "markdown",
   "id": "7fdbf25c-97b2-43ef-98b6-47b5ce7da425",
   "metadata": {},
   "source": [
    "### 3.4 Summary of Significant Findings"
   ]
  },
  {
   "cell_type": "code",
   "execution_count": 9,
   "id": "b7124503-c6eb-464b-89ac-84b33988ecff",
   "metadata": {},
   "outputs": [
    {
     "name": "stdout",
     "output_type": "stream",
     "text": [
      "Significantly different cell populations between responders and non-responders:\n",
      "\n",
      "- cd4_t_cell:\n",
      "  Responders median: 36.50%\n",
      "  Non-responders median: 25.00%\n",
      "  Difference: 11.50%\n",
      "  p-value: 0.0381\n"
     ]
    }
   ],
   "source": [
    "significant_results = results_df[results_df['p_value'] < 0.05]\n",
    "\n",
    "if not significant_results.empty:\n",
    "    print(\"Significantly different cell populations between responders and non-responders:\")\n",
    "    for _, row in significant_results.iterrows():\n",
    "        print(f\"\\n- {row['population']}:\")\n",
    "        print(f\"  Responders median: {row['responder_median']:.2f}%\")\n",
    "        print(f\"  Non-responders median: {row['non_responder_median']:.2f}%\")\n",
    "        print(f\"  Difference: {row['median_diff']:.2f}%\")\n",
    "        print(f\"  p-value: {row['p_value']:.4f}\")\n",
    "else:\n",
    "    print(\"No cell populations showed statistically significant differences at p < 0.05\")"
   ]
  },
  {
   "cell_type": "markdown",
   "id": "275cf3ca-8f09-4bf4-a38a-17e6f707bcc4",
   "metadata": {},
   "source": [
    "## 4. Demographic Breakdown of Melanoma Samples"
   ]
  },
  {
   "cell_type": "markdown",
   "id": "6c2d1310-dcf3-4bef-9687-77f22983619a",
   "metadata": {},
   "source": [
    "### 4.1 Samples by Project"
   ]
  },
  {
   "cell_type": "code",
   "execution_count": 11,
   "id": "e6c472f8-f854-4d27-a295-2cb76f071b79",
   "metadata": {},
   "outputs": [
    {
     "name": "stdout",
     "output_type": "stream",
     "text": [
      "Samples by project:\n"
     ]
    },
    {
     "data": {
      "text/plain": [
       "project\n",
       "prj1    5\n",
       "prj2    2\n",
       "prj3    2\n",
       "Name: count, dtype: int64"
      ]
     },
     "metadata": {},
     "output_type": "display_data"
    }
   ],
   "source": [
    "project_counts = melanoma_df[['sample', 'project']].drop_duplicates()['project'].value_counts()\n",
    "print(\"Samples by project:\")\n",
    "display(project_counts)\n"
   ]
  },
  {
   "cell_type": "markdown",
   "id": "35c50c7b-7416-4fb4-aa8e-6e62c6fcd030",
   "metadata": {},
   "source": [
    "### 4.2 Response Status"
   ]
  },
  {
   "cell_type": "code",
   "execution_count": 12,
   "id": "f7b34cbc-9e22-422d-b600-f267d02ffcb4",
   "metadata": {},
   "outputs": [
    {
     "name": "stdout",
     "output_type": "stream",
     "text": [
      "Response status:\n"
     ]
    },
    {
     "data": {
      "text/plain": [
       "response\n",
       "y    6\n",
       "n    3\n",
       "Name: count, dtype: int64"
      ]
     },
     "metadata": {},
     "output_type": "display_data"
    }
   ],
   "source": [
    "response_counts = melanoma_df[['sample', 'response']].drop_duplicates()['response'].value_counts()\n",
    "print(\"Response status:\")\n",
    "display(response_counts)"
   ]
  },
  {
   "cell_type": "markdown",
   "id": "25d5a2bf-4547-4cd2-af6a-2e188a11a04a",
   "metadata": {},
   "source": [
    "### 4.3 Sex Distribution"
   ]
  },
  {
   "cell_type": "code",
   "execution_count": 13,
   "id": "372c3313-e89a-4ce6-a1c2-008789bf4d47",
   "metadata": {},
   "outputs": [
    {
     "name": "stdout",
     "output_type": "stream",
     "text": [
      "Sex distribution:\n"
     ]
    },
    {
     "data": {
      "text/plain": [
       "sex\n",
       "F    5\n",
       "M    4\n",
       "Name: count, dtype: int64"
      ]
     },
     "metadata": {},
     "output_type": "display_data"
    }
   ],
   "source": [
    "sex_counts = melanoma_df[['sample', 'sex']].drop_duplicates()['sex'].value_counts()\n",
    "print(\"Sex distribution:\")\n",
    "display(sex_counts)\n"
   ]
  },
  {
   "cell_type": "markdown",
   "id": "c3432120-f5c4-401a-8c7f-972c896b9370",
   "metadata": {},
   "source": [
    "## 5. Database Schema Proposal"
   ]
  },
  {
   "cell_type": "markdown",
   "id": "a186c7d8-3673-439e-92eb-fe3b6eb94876",
   "metadata": {},
   "source": [
    "```sql\n",
    "-- Main Tables\n",
    "CREATE TABLE Projects (\n",
    "     project_id VARCHAR(20) PRIMARY KEY,\n",
    "     project_name VARCHAR(100),\n",
    "     description TEXT,\n",
    "     start_date DATE,\n",
    "     end_date DATE\n",
    ");\n",
    " CREATE TABLE Subjects (\n",
    "     subject_id VARCHAR(20) PRIMARY KEY,\n",
    "     project_id VARCHAR(20) REFERENCES Projects(project_id),\n",
    "     external_subject_id VARCHAR(50),\n",
    "     age INTEGER,\n",
    "     sex CHAR(1),\n",
    "     condition VARCHAR(50),\n",
    "     other_demographics JSONB\n",
    " );\n",
    "\n",
    " CREATE TABLE Treatments (\n",
    "     treatment_id VARCHAR(20) PRIMARY KEY,\n",
    "     treatment_name VARCHAR(50),\n",
    "     description TEXT\n",
    " );\n",
    "\n",
    " CREATE TABLE Subject_Treatment (\n",
    "     subject_treatment_id SERIAL PRIMARY KEY,\n",
    "     subject_id VARCHAR(20) REFERENCES Subjects(subject_id),\n",
    "     treatment_id VARCHAR(20) REFERENCES Treatments(treatment_id),\n",
    "     start_date DATE,\n",
    "     response CHAR(1),\n",
    "     response_date DATE\n",
    " );\n",
    "\n",
    " CREATE TABLE Samples (\n",
    "     sample_id VARCHAR(20) PRIMARY KEY,\n",
    "     subject_id VARCHAR(20) REFERENCES Subjects(subject_id),\n",
    "     external_sample_id VARCHAR(50),\n",
    "     sample_type VARCHAR(20),\n",
    "     collection_date DATE,\n",
    "     time_from_treatment_start INTEGER,\n",
    "     processing_notes TEXT\n",
    " );\n",
    "\n",
    " CREATE TABLE Cell_Populations (\n",
    "     population_id VARCHAR(20) PRIMARY KEY,\n",
    "     population_name VARCHAR(50),\n",
    "     description TEXT\n",
    " );\n",
    "\n",
    " CREATE TABLE Cell_Counts (\n",
    "     count_id SERIAL PRIMARY KEY,\n",
    "     sample_id VARCHAR(20) REFERENCES Samples(sample_id),\n",
    "     population_id VARCHAR(20) REFERENCES Cell_Populations(population_id),\n",
    "     cell_count INTEGER,\n",
    "     percentage FLOAT,\n",
    "     measurement_date DATE\n",
    " );\n",
    " ```"
   ]
  },
  {
   "cell_type": "markdown",
   "id": "58a8fc76-5f3b-4f54-a3db-09747a2f6b1f",
   "metadata": {},
   "source": [
    "## 6. Example Database Queries"
   ]
  },
  {
   "cell_type": "markdown",
   "id": "32d5e960-06b0-4352-9f8b-40ac9ecc358c",
   "metadata": {},
   "source": [
    "### 6.1 Subjects per Condition"
   ]
  },
  {
   "cell_type": "markdown",
   "id": "c1538e1d-204d-4dc0-98ac-be77c1441884",
   "metadata": {},
   "source": [
    "```sql\n",
    " SELECT condition, COUNT(DISTINCT subject_id) as subject_count\n",
    " FROM Subjects\n",
    " GROUP BY condition\n",
    " ORDER BY subject_count DESC;\n",
    " ```"
   ]
  },
  {
   "cell_type": "markdown",
   "id": "807e5607-7ac3-4790-a4a6-e4250f6c49b4",
   "metadata": {},
   "source": [
    "### 6.2 Melanoma PBMC Samples at Baseline with TR1 Treatment"
   ]
  },
  {
   "cell_type": "markdown",
   "id": "391f06c8-365f-451a-abfd-04c5668bf90d",
   "metadata": {},
   "source": [
    "```sql\n",
    " SELECT s.sample_id, s.external_sample_id, subj.external_subject_id, \n",
    "        subj.condition, st.response\n",
    " FROM Samples s\n",
    " JOIN Subjects subj ON s.subject_id = subj.subject_id\n",
    " JOIN Subject_Treatment st ON subj.subject_id = st.subject_id\n",
    " JOIN Treatments t ON st.treatment_id = t.treatment_id\n",
    " WHERE subj.condition = 'melanoma'\n",
    "   AND s.sample_type = 'PBMC'\n",
    "   AND s.time_from_treatment_start = 0\n",
    "   AND t.treatment_name = 'tr1';\n",
    " ```"
   ]
  },
  {
   "cell_type": "markdown",
   "id": "83a01aac-c9c2-43d9-8a22-ffb861d3e1f3",
   "metadata": {},
   "source": [
    "## 7. Summary and Conclusions"
   ]
  },
  {
   "cell_type": "code",
   "execution_count": 15,
   "id": "a3f45314-e005-429a-a2f0-c239a807da7b",
   "metadata": {},
   "outputs": [
    {
     "name": "stdout",
     "output_type": "stream",
     "text": [
      "\n",
      "## Key Findings:\n",
      "\n",
      "1. Cell Population Differences:\n",
      "   - cd4_t_cell (p=0.038, Δ=11.5%)\n",
      "\n",
      "2. Sample Characteristics:\n",
      "   - Total melanoma samples analyzed: 9\n",
      "   - Projects represented: 3\n",
      "   - Responders: 6 | Non-responders: 3\n",
      "   - Male/Female distribution: M: 4, F: 5\n",
      "\n"
     ]
    }
   ],
   "source": [
    "summary = \"\"\"\n",
    "## Key Findings:\n",
    "\n",
    "1. Cell Population Differences:\n",
    "   - {significant_findings}\n",
    "\n",
    "2. Sample Characteristics:\n",
    "   - Total melanoma samples analyzed: {n_samples}\n",
    "   - Projects represented: {n_projects}\n",
    "   - Responders: {n_responders} | Non-responders: {n_non_responders}\n",
    "   - Male/Female distribution: {male_female}\n",
    "\"\"\".format(\n",
    "    significant_findings=\"\\n   - \".join([\n",
    "        f\"{row['population']} (p={row['p_value']:.3f}, Δ={row['median_diff']:.1f}%)\" \n",
    "        for _, row in significant_results.iterrows()\n",
    "    ]) if not significant_results.empty else \"No significant differences found\",\n",
    "    n_samples=melanoma_df['sample'].nunique(),\n",
    "    n_projects=melanoma_df['project'].nunique(),\n",
    "    n_responders=response_counts.get('y', 0),\n",
    "    n_non_responders=response_counts.get('n', 0),\n",
    "    male_female=f\"M: {sex_counts.get('M', 0)}, F: {sex_counts.get('F', 0)}\",\n",
    "    top_population=significant_results.iloc[0]['population'] if not significant_results.empty else \"all populations\"\n",
    ")\n",
    "\n",
    "print(summary)"
   ]
  }
 ],
 "metadata": {
  "kernelspec": {
   "display_name": "Python 3 (ipykernel)",
   "language": "python",
   "name": "python3"
  },
  "language_info": {
   "codemirror_mode": {
    "name": "ipython",
    "version": 3
   },
   "file_extension": ".py",
   "mimetype": "text/x-python",
   "name": "python",
   "nbconvert_exporter": "python",
   "pygments_lexer": "ipython3",
   "version": "3.11.11"
  }
 },
 "nbformat": 4,
 "nbformat_minor": 5
}
